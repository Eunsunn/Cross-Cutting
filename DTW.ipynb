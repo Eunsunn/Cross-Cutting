{
 "cells": [
  {
   "cell_type": "code",
   "execution_count": 1,
   "metadata": {},
   "outputs": [],
   "source": [
    "from __future__ import print_function\n",
    "import numpy as np\n",
    "import matplotlib\n",
    "import matplotlib.pyplot as plt\n",
    "\n",
    "import librosa\n",
    "import librosa.display"
   ]
  },
  {
   "cell_type": "code",
   "execution_count": 2,
   "metadata": {},
   "outputs": [],
   "source": [
    "x_1, fs = librosa.load('./audio/ohmygirl1.wav')\n",
    "x_2, fs = librosa.load('./audio/ohmygirl2.wav')"
   ]
  },
  {
   "cell_type": "code",
   "execution_count": 3,
   "metadata": {},
   "outputs": [
    {
     "data": {
      "text/plain": [
       "22050"
      ]
     },
     "execution_count": 3,
     "metadata": {},
     "output_type": "execute_result"
    }
   ],
   "source": [
    "fs"
   ]
  },
  {
   "cell_type": "code",
   "execution_count": 3,
   "metadata": {},
   "outputs": [],
   "source": [
    "# n_fft = 4410\n",
    "# hop_size = 2205\n",
    "\n",
    "# x_1_chroma = librosa.feature.chroma_stft(y=x_1, sr=fs, tuning=0, norm=2,\n",
    "#                                          hop_length=hop_size, n_fft=n_fft)\n",
    "# x_2_chroma = librosa.feature.chroma_stft(y=x_2, sr=fs, tuning=0, norm=2,\n",
    "#                                          hop_length=hop_size, n_fft=n_fft)"
   ]
  },
  {
   "cell_type": "code",
   "execution_count": 5,
   "metadata": {},
   "outputs": [
    {
     "name": "stdout",
     "output_type": "stream",
     "text": [
      "distance:  11.207895278930664\n"
     ]
    }
   ],
   "source": [
    "from fastdtw import fastdtw\n",
    "from scipy.spatial.distance import euclidean\n",
    "\n",
    "if(len(x_1)>len(x_2)):\n",
    "    temp = x_1\n",
    "    x_1 = x_2\n",
    "    x_2 = x_1\n",
    "\n",
    "x_1 = x_1[:22050*5]\n",
    "x_2 = x_2[:22050*5]    \n",
    "\n",
    "path = fastdtw(x_1, x_2)[1]\n",
    "B_ = []\n",
    "for i in range(len(x_1)):\n",
    "    B_.append(x_1[path[i][1]])\n",
    "print(\"distance: \", euclidean(x_1, B_))"
   ]
  },
  {
   "cell_type": "code",
   "execution_count": 6,
   "metadata": {},
   "outputs": [
    {
     "data": {
      "text/plain": [
       "array([ 0.        ,  0.        ,  0.        , ...,  0.02239223,\n",
       "        0.01142679, -0.01053294], dtype=float32)"
      ]
     },
     "execution_count": 6,
     "metadata": {},
     "output_type": "execute_result"
    }
   ],
   "source": [
    "x_1[11:]\n",
    "x_2"
   ]
  },
  {
   "cell_type": "code",
   "execution_count": 8,
   "metadata": {},
   "outputs": [],
   "source": [
    "librosa.output.write_wav('./test0_0.wav', x_1[11:], fs)\n",
    "librosa.output.write_wav('./test0_1.wav', x_2, fs)\n",
    "librosa.output.write_wav('./test1_0.wav', x_1, fs)\n",
    "librosa.output.write_wav('./test1_1.wav', x_2[11:], fs)"
   ]
  },
  {
   "cell_type": "code",
   "execution_count": null,
   "metadata": {},
   "outputs": [],
   "source": []
  }
 ],
 "metadata": {
  "kernelspec": {
   "display_name": "Python 3",
   "language": "python",
   "name": "python3"
  },
  "language_info": {
   "codemirror_mode": {
    "name": "ipython",
    "version": 3
   },
   "file_extension": ".py",
   "mimetype": "text/x-python",
   "name": "python",
   "nbconvert_exporter": "python",
   "pygments_lexer": "ipython3",
   "version": "3.5.6"
  }
 },
 "nbformat": 4,
 "nbformat_minor": 2
}
